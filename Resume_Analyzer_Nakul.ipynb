{
 "cells": [
  {
   "cell_type": "code",
   "execution_count": 6,
   "id": "9a104c05-5c09-4481-a43f-bd8f221e1d18",
   "metadata": {},
   "outputs": [
    {
     "name": "stdout",
     "output_type": "stream",
     "text": [
      "Defaulting to user installation because normal site-packages is not writeable\n",
      "Collecting pypdf2\n",
      "  Downloading pypdf2-3.0.1-py3-none-any.whl.metadata (6.8 kB)\n",
      "Downloading pypdf2-3.0.1-py3-none-any.whl (232 kB)\n",
      "   ---------------------------------------- 0.0/232.6 kB ? eta -:--:--\n",
      "   - -------------------------------------- 10.2/232.6 kB ? eta -:--:--\n",
      "   ----- --------------------------------- 30.7/232.6 kB 660.6 kB/s eta 0:00:01\n",
      "   ------------------- -------------------- 112.6/232.6 kB 1.3 MB/s eta 0:00:01\n",
      "   ---------------------------------------- 232.6/232.6 kB 1.6 MB/s eta 0:00:00\n",
      "Installing collected packages: pypdf2\n",
      "Successfully installed pypdf2-3.0.1\n"
     ]
    }
   ],
   "source": [
    "!pip install pypdf2"
   ]
  },
  {
   "cell_type": "code",
   "execution_count": 8,
   "id": "236a1767-363d-493a-982d-8233fe392492",
   "metadata": {},
   "outputs": [
    {
     "name": "stdout",
     "output_type": "stream",
     "text": [
      "Defaulting to user installation because normal site-packages is not writeable\n",
      "Collecting docx2txt\n",
      "  Downloading docx2txt-0.8.tar.gz (2.8 kB)\n",
      "  Preparing metadata (setup.py): started\n",
      "  Preparing metadata (setup.py): finished with status 'done'\n",
      "Building wheels for collected packages: docx2txt\n",
      "  Building wheel for docx2txt (setup.py): started\n",
      "  Building wheel for docx2txt (setup.py): finished with status 'done'\n",
      "  Created wheel for docx2txt: filename=docx2txt-0.8-py3-none-any.whl size=3973 sha256=6dce2cde400a7a6317291c5c5e8a70e35953cd024ee65d4d95103085c53c4c60\n",
      "  Stored in directory: c:\\users\\arora\\appdata\\local\\pip\\cache\\wheels\\0f\\0e\\7a\\3094a4ceefe657bff7e12dd9592a9d5b6487ef4338ace0afa6\n",
      "Successfully built docx2txt\n",
      "Installing collected packages: docx2txt\n",
      "Successfully installed docx2txt-0.8\n"
     ]
    }
   ],
   "source": [
    "!pip install docx2txt"
   ]
  },
  {
   "cell_type": "code",
   "execution_count": 4,
   "id": "982a1b55-db64-421d-87bc-79f2a26f11fc",
   "metadata": {},
   "outputs": [
    {
     "name": "stdout",
     "output_type": "stream",
     "text": [
      "\n",
      "**Resume Details:**\n",
      "Name: Nakul Arora\n",
      "Email: arora.nakul75@gmail.com\n",
      "Phone: None\n",
      "Skills: ['Python', 'Java', 'C++', 'Machine Learning']\n",
      "Education: ['Bachelor']\n"
     ]
    }
   ],
   "source": [
    "#Resume Parser - Nakul Arora\n",
    "import re\n",
    "import docx2txt\n",
    "from PyPDF2 import PdfReader\n",
    "\n",
    "def extract_text_from_pdf(pdf_path):\n",
    "    text = \"\"\n",
    "    with open(pdf_path, \"rb\") as file:\n",
    "        reader = PdfReader(file)\n",
    "        for page in reader.pages:\n",
    "            text += page.extract_text() + \"\\n\"\n",
    "    return text.strip()\n",
    "\n",
    "\n",
    "def extract_text_from_docx(docx_path):\n",
    "    return docx2txt.process(docx_path).strip()\n",
    "\n",
    "\n",
    "def extract_email(text):\n",
    "    match = re.search(r\"[a-zA-Z0-9._%+-]+@[a-zA-Z0-9.-]+\\.[a-zA-Z]{2,4}\", text)\n",
    "    return match.group(0) if match else None\n",
    "\n",
    "\n",
    "def extract_phone(text):\n",
    "    match = re.search(r\"\\+?\\d[\\d\\s-]{8,14}\\d\", text)\n",
    "    return match.group(0) if match else None\n",
    "\n",
    "\n",
    "def extract_skills(text):\n",
    "    skills_db = [\"Python\", \"Java\", \"C++\", \"Machine Learning\", \"Data Science\", \"Flask\", \"Django\"]\n",
    "    return [skill for skill in skills_db if skill.lower() in text.lower()]\n",
    "\n",
    "\n",
    "def extract_name(text):\n",
    "    return text.split(\"\\n\")[0] if text else None\n",
    "\n",
    "def extract_education(text):\n",
    "    edu_keywords = [\"Bachelor\", \"Master\", \"PhD\", \"B.Sc\", \"M.Sc\", \"B.Tech\", \"M.Tech\", \"B.E\", \"M.E\"]\n",
    "    return [edu for edu in edu_keywords if edu.lower() in text.lower()]\n",
    "\n",
    "\n",
    "def parse_resume(file_path):\n",
    "    file_type = file_path.split(\".\")[-1].lower()\n",
    "   \n",
    "    if file_type == \"pdf\":\n",
    "        text = extract_text_from_pdf(file_path)\n",
    "    elif file_type == \"docx\":\n",
    "        text = extract_text_from_docx(file_path)\n",
    "    else:\n",
    "        print(\"Unsupported file type!!\")\n",
    "        return\n",
    "\n",
    "    parsed_data = {\n",
    "        \"Name\": extract_name(text),\n",
    "        \"Email\": extract_email(text),\n",
    "        \"Phone\": extract_phone(text),\n",
    "        \"Skills\": extract_skills(text),\n",
    "        \"Education\": extract_education(text),\n",
    "    }\n",
    "\n",
    "    print(\"\\n**Resume Details:**\")\n",
    "    for key, value in parsed_data.items():\n",
    "        print(f\"{key}: {value}\")\n",
    "\n",
    "if __name__ == \"__main__\":\n",
    "    file_path = r\"C:\\Users\\ARORA\\OneDrive\\Documents\\Nakul Arora Documents\\Nakul Arora_CrowdStrike_Resume.pdf\"\n",
    "    parse_resume(file_path)"
   ]
  },
  {
   "cell_type": "code",
   "execution_count": null,
   "id": "5472b393-bc80-488a-93ec-fc4dfd00fe27",
   "metadata": {},
   "outputs": [],
   "source": []
  }
 ],
 "metadata": {
  "kernelspec": {
   "display_name": "Python 3 (ipykernel)",
   "language": "python",
   "name": "python3"
  },
  "language_info": {
   "codemirror_mode": {
    "name": "ipython",
    "version": 3
   },
   "file_extension": ".py",
   "mimetype": "text/x-python",
   "name": "python",
   "nbconvert_exporter": "python",
   "pygments_lexer": "ipython3",
   "version": "3.11.7"
  }
 },
 "nbformat": 4,
 "nbformat_minor": 5
}
